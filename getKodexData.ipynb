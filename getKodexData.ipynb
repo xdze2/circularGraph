{
 "metadata": {
  "name": "",
  "signature": "sha256:e0a6f0a8a32516bdb7e641e0b1705055c7e60f1eaf7e653f06fe4903674ab659"
 },
 "nbformat": 3,
 "nbformat_minor": 0,
 "worksheets": [
  {
   "cells": [
    {
     "cell_type": "code",
     "collapsed": false,
     "input": [
      "import requests\n",
      "import json"
     ],
     "language": "python",
     "metadata": {},
     "outputs": [],
     "prompt_number": 72
    },
    {
     "cell_type": "code",
     "collapsed": false,
     "input": [
      "url = \"http://kodexlab.com/cnrtl/graph/verb/api/play\"\n",
      "request = {\"query\":\"tourner\"}"
     ],
     "language": "python",
     "metadata": {},
     "outputs": [],
     "prompt_number": 147
    },
    {
     "cell_type": "code",
     "collapsed": false,
     "input": [
      "res = requests.get(url, data=json.dumps(request), headers={\"content-type\":\"application/json\"})"
     ],
     "language": "python",
     "metadata": {},
     "outputs": [],
     "prompt_number": 148
    },
    {
     "cell_type": "code",
     "collapsed": false,
     "input": [
      "data = res.json()\n",
      "print len( data[\"results\"] )"
     ],
     "language": "python",
     "metadata": {},
     "outputs": [
      {
       "output_type": "stream",
       "stream": "stdout",
       "text": [
        "4\n"
       ]
      }
     ],
     "prompt_number": 149
    },
    {
     "cell_type": "code",
     "collapsed": false,
     "input": [
      "filename = 'data_query.json'\n",
      "writeFile = open(filename, 'w+')\n",
      "writeFile.write( json.dumps( data ,   indent = 4 ) )\n",
      "writeFile.close()"
     ],
     "language": "python",
     "metadata": {},
     "outputs": [],
     "prompt_number": 150
    },
    {
     "cell_type": "markdown",
     "metadata": {},
     "source": [
      "### Formatage pour le graph circulaire"
     ]
    },
    {
     "cell_type": "code",
     "collapsed": false,
     "input": [
      "# cr\u00e9er une liste ordonn\u00e9es des Noeux, en inserrant les espaces entre les clusters\n",
      "# donne l'angle  : theta = iDelta * delta\n",
      "\n",
      "iDelta = {}\n",
      "i = 0\n",
      "for c in data[\"results\"]['clusters']['clusters']:\n",
      "    for vId in c['vids']:\n",
      "        iDelta[ vId ] = i\n",
      "        i = i + 1\n",
      "    i = i + 1 # espace entre cluster\n",
      "nNodes = i - 1\n",
      "print nNodes"
     ],
     "language": "python",
     "metadata": {},
     "outputs": [
      {
       "output_type": "stream",
       "stream": "stdout",
       "text": [
        "55\n"
       ]
      }
     ],
     "prompt_number": 151
    },
    {
     "cell_type": "code",
     "collapsed": false,
     "input": [
      "for d in data['results']['graph']['vs']:\n",
      "    print d['label'],"
     ],
     "language": "python",
     "metadata": {},
     "outputs": [
      {
       "output_type": "stream",
       "stream": "stdout",
       "text": [
        "alterner battre biaiser braquer changer cin\u00e9graphier cin\u00e9matographier d\u00e9g\u00e9n\u00e9rer d\u00e9tourner d\u00e9vier enregistrer errer filmer finasser girer graviter marcher obliquer partir passer photographier pirouetter pivoter pourrir remuer retourner rouler r\u00f4der s'aigrir se g\u00e2ter se transformer se troubler serpenter tordre tortiller toupiller toupiner tourbillonner tournailler tourner tournicoter tourniller tourniquer tournoyer transformer virer virevolter virevousser volter \u00e9voluer\n"
       ]
      }
     ],
     "prompt_number": 152
    },
    {
     "cell_type": "code",
     "collapsed": false,
     "input": [
      "myData = {}\n",
      "\n",
      "myData['links'] = data['results']['graph']['es']\n",
      "myData['nodes'] = data['results']['graph']['vs']\n",
      "myData['iDelta'] = iDelta\n",
      "myData['nNodes'] = nNodes"
     ],
     "language": "python",
     "metadata": {},
     "outputs": [],
     "prompt_number": 153
    },
    {
     "cell_type": "code",
     "collapsed": false,
     "input": [
      "#\u00a0Conserver la requ\u00eate\n",
      "myData['query'] = None\n",
      "q = data['results']['query']\n",
      "for n in myData['nodes']:\n",
      "    if n['lemme'] == q:\n",
      "        myData['query'] = n\n",
      "        print n['lemme']"
     ],
     "language": "python",
     "metadata": {},
     "outputs": [
      {
       "output_type": "stream",
       "stream": "stdout",
       "text": [
        "tourner\n"
       ]
      }
     ],
     "prompt_number": 154
    },
    {
     "cell_type": "code",
     "collapsed": false,
     "input": [
      "# Dico de correspondance vertex -> cluster id\n",
      "clusters_id = {}\n",
      "for id_cluster , c in enumerate( data['results']['clusters']['clusters'] ):\n",
      "    for i, vertex_id in enumerate( c['vids'] ):\n",
      "        clusters_id[vertex_id] = id_cluster \n",
      "        \n",
      "print clusters_id\n",
      "myData['clusters_id'] = clusters_id"
     ],
     "language": "python",
     "metadata": {},
     "outputs": [
      {
       "output_type": "stream",
       "stream": "stdout",
       "text": [
        "{0: 0, 1: 0, 2: 1, 3: 1, 4: 0, 5: 2, 6: 2, 7: 0, 8: 1, 9: 1, 10: 2, 11: 3, 12: 2, 13: 1, 14: 4, 15: 4, 16: 0, 17: 1, 18: 0, 19: 0, 20: 2, 21: 4, 22: 4, 23: 5, 24: 0, 25: 0, 26: 0, 27: 3, 28: 5, 29: 5, 30: 0, 31: 5, 32: 4, 33: 1, 34: 1, 35: 4, 36: 4, 37: 4, 38: 3, 39: 0, 40: 3, 41: 3, 42: 3, 43: 4, 44: 0, 45: 4, 46: 4, 47: 4, 48: 4, 49: 0}\n"
       ]
      }
     ],
     "prompt_number": 172
    },
    {
     "cell_type": "code",
     "collapsed": false,
     "input": [
      "# Manage the links with the query\n",
      "id_q = myData['query']['id']\n",
      "print id_q\n",
      "\n",
      "for i, edge in enumerate( myData['links'] ):\n",
      "    if edge['s']==id_q or edge['t']==id_q:\n",
      "        myData['links'][i]['type'] = 'query'\n",
      "    elif clusters_id[ edge['s'] ] == clusters_id[ edge['t'] ]:\n",
      "        myData['links'][i]['type'] = 'intra'\n",
      "    else:\n",
      "        myData['links'][i]['type'] = 'inter'\n",
      "# -- after : add type inter/intra cluster\n",
      "\n",
      "#print myData['links']"
     ],
     "language": "python",
     "metadata": {},
     "outputs": [
      {
       "output_type": "stream",
       "stream": "stdout",
       "text": [
        "39\n"
       ]
      }
     ],
     "prompt_number": 173
    },
    {
     "cell_type": "code",
     "collapsed": false,
     "input": [
      "#\u00a0-- SAVE --\n",
      "filename = 'myData_'+request['query']+'.json'\n",
      "writeFile = open(filename, 'w+')\n",
      "writeFile.write( json.dumps( myData ,   indent = 4 ) )\n",
      "writeFile.close()"
     ],
     "language": "python",
     "metadata": {},
     "outputs": [],
     "prompt_number": 174
    },
    {
     "cell_type": "markdown",
     "metadata": {},
     "source": [
      "###\u00a0Brouillon"
     ]
    },
    {
     "cell_type": "code",
     "collapsed": false,
     "input": [
      "print myData['nodes'] "
     ],
     "language": "python",
     "metadata": {},
     "outputs": [
      {
       "output_type": "stream",
       "stream": "stdout",
       "text": [
        "[{u'gdeg': 50, u'prox': 0.04759145259028624, u'label': u'absorber', u'gid': 32, u'lemme': u'absorber', u'prox_color': [255, 179, 45], u'id': 0}, {u'gdeg': 97, u'prox': 0.015170552075153021, u'label': u'apprendre', u'gid': 371, u'lemme': u'apprendre', u'prox_color': [255, 145, 50], u'id': 1}, {u'gdeg': 38, u'prox': 0.008080933361935572, u'label': u'avaler', u'gid': 512, u'lemme': u'avaler', u'prox_color': [255, 159, 78], u'id': 2}, {u'gdeg': 13, u'prox': 0.007614969330415005, u'label': u'becqueter', u'gid': 769, u'lemme': u'becqueter', u'prox_color': [255, 136, 39], u'id': 3}, {u'gdeg': 75, u'prox': 0.006944848406075442, u'label': u'boire', u'gid': 837, u'lemme': u'boire', u'prox_color': [255, 155, 63], u'id': 4}, {u'gdeg': 31, u'prox': 0.006650275537209658, u'label': u'bouffer', u'gid': 878, u'lemme': u'bouffer', u'prox_color': [255, 153, 70], u'id': 5}, {u'gdeg': 8, u'prox': 0.005965910584563172, u'label': u'boulotter', u'gid': 893, u'lemme': u'boulotter', u'prox_color': [255, 174, 33], u'id': 6}, {u'gdeg': 5, u'prox': 0.005958294698051958, u'label': u'boustifailler', u'gid': 910, u'lemme': u'boustifailler', u'prox_color': [255, 171, 51], u'id': 7}, {u'gdeg': 3, u'prox': 0.005936157478725468, u'label': u'brichetonner', u'gid': 939, u'lemme': u'brichetonner', u'prox_color': [255, 181, 34], u'id': 8}, {u'gdeg': 10, u'prox': 0.005768026212773593, u'label': u'briffer', u'gid': 943, u'lemme': u'briffer', u'prox_color': [255, 157, 39], u'id': 9}, {u'gdeg': 15, u'prox': 0.00554294576999914, u'label': u'b\\xe2frer', u'gid': 1001, u'lemme': u'b\\xe2frer', u'prox_color': [255, 179, 60], u'id': 10}, {u'gdeg': 5, u'prox': 0.005393394998280626, u'label': u'casser la cro\\xfbte', u'gid': 1126, u'lemme': u'casser la cro\\xfbte', u'prox_color': [255, 156, 38], u'id': 11}, {u'gdeg': 3, u'prox': 0.005384253099286609, u'label': u'casser la graine', u'gid': 1128, u'lemme': u'casser la graine', u'prox_color': [255, 181, 39], u'id': 12}, {u'gdeg': 30, u'prox': 0.00534181721494208, u'label': u'croquer', u'gid': 1662, u'lemme': u'croquer', u'prox_color': [255, 215, 50], u'id': 13}, {u'gdeg': 3, u'prox': 0.005239835379285317, u'label': u'croustiller', u'gid': 1668, u'lemme': u'croustiller', u'prox_color': [255, 219, 39], u'id': 14}, {u'gdeg': 4, u'prox': 0.005108068871829069, u'label': u'cro\\xfbter', u'gid': 1670, u'lemme': u'cro\\xfbter', u'prox_color': [255, 187, 44], u'id': 15}, {u'gdeg': 4, u'prox': 0.005098666802342755, u'label': u'd\\xe9jeuner', u'gid': 2169, u'lemme': u'd\\xe9jeuner', u'prox_color': [255, 176, 55], u'id': 16}, {u'gdeg': 38, u'prox': 0.00509465735440281, u'label': u'd\\xe9penser', u'gid': 2268, u'lemme': u'd\\xe9penser', u'prox_color': [255, 220, 50], u'id': 17}, {u'gdeg': 50, u'prox': 0.005075634169791699, u'label': u'd\\xe9vorer', u'gid': 2480, u'lemme': u'd\\xe9vorer', u'prox_color': [255, 173, 47], u'id': 18}, {u'gdeg': 4, u'prox': 0.00499705115608425, u'label': u'd\\xeener', u'gid': 2486, u'lemme': u'd\\xeener', u'prox_color': [255, 180, 53], u'id': 19}, {u'gdeg': 33, u'prox': 0.0048742421890601365, u'label': u'engloutir', u'gid': 2724, u'lemme': u'engloutir', u'prox_color': [255, 224, 67], u'id': 20}, {u'gdeg': 3, u'prox': 0.004840717242728665, u'label': u'faire bonne ch\\xe8re', u'gid': 2977, u'lemme': u'faire bonne ch\\xe8re', u'prox_color': [255, 184, 51], u'id': 21}, {u'gdeg': 12, u'prox': 0.004796773147706646, u'label': u'festoyer', u'gid': 3226, u'lemme': u'festoyer', u'prox_color': [255, 143, 52], u'id': 22}, {u'gdeg': 5, u'prox': 0.004679998778736747, u'label': u'gobichonner', u'gid': 3493, u'lemme': u'gobichonner', u'prox_color': [255, 179, 112], u'id': 23}, {u'gdeg': 8, u'prox': 0.004392387887055575, u'label': u'goinfrer', u'gid': 3499, u'lemme': u'goinfrer', u'prox_color': [255, 176, 127], u'id': 24}, {u'gdeg': 5, u'prox': 0.004380573778234077, u'label': u'grailler', u'gid': 3522, u'lemme': u'grailler', u'prox_color': [255, 184, 55], u'id': 25}, {u'gdeg': 22, u'prox': 0.004347321037813793, u'label': u'ingurgiter', u'gid': 3785, u'lemme': u'ingurgiter', u'prox_color': [255, 184, 59], u'id': 26}, {u'gdeg': 104, u'prox': 0.004259297246750929, u'label': u'manger', u'gid': 4095, u'lemme': u'manger', u'prox_color': [255, 191, 55], u'id': 27}, {u'gdeg': 8, u'prox': 0.004253224708449615, u'label': u'pa\\xeetre', u'gid': 4732, u'lemme': u'pa\\xeetre', u'prox_color': [255, 97, 45], u'id': 28}, {u'gdeg': 210, u'prox': 0.004240412149998311, u'label': u'prendre', u'gid': 4962, u'lemme': u'prendre', u'prox_color': [255, 145, 54], u'id': 29}, {u'gdeg': 6, u'prox': 0.004236503933477653, u'label': u'ripailler', u'gid': 5668, u'lemme': u'ripailler', u'prox_color': [255, 148, 49], u'id': 30}, {u'gdeg': 39, u'prox': 0.004227980927228528, u'label': u\"s'abreuver\", u'gid': 5881, u'lemme': u\"s'abreuver\", u'prox_color': [255, 166, 61], u'id': 31}, {u'gdeg': 5, u'prox': 0.0042256751572393395, u'label': u\"s'alimenter\", u'gid': 5972, u'lemme': u\"s'alimenter\", u'prox_color': [255, 145, 67], u'id': 32}, {u'gdeg': 12, u'prox': 0.004183957615521799, u'label': u\"s'empiffrer\", u'gid': 6134, u'lemme': u\"s'empiffrer\", u'prox_color': [255, 174, 61], u'id': 33}, {u'gdeg': 9, u'prox': 0.004177111287246899, u'label': u'se bourrer', u'gid': 6635, u'lemme': u'se bourrer', u'prox_color': [255, 165, 64], u'id': 34}, {u'gdeg': 3, u'prox': 0.004150921397206931, u'label': u'se caler les joues', u'gid': 6660, u'lemme': u'se caler les joues', u'prox_color': [255, 180, 53], u'id': 35}, {u'gdeg': 3, u'prox': 0.003997511368159233, u'label': u'se d\\xe9car\\xeamer', u'gid': 6880, u'lemme': u'se d\\xe9car\\xeamer', u'prox_color': [255, 199, 127], u'id': 36}, {u'gdeg': 9, u'prox': 0.003996545789380752, u'label': u'se gaver', u'gid': 7152, u'lemme': u'se gaver', u'prox_color': [255, 168, 52], u'id': 37}, {u'gdeg': 5, u'prox': 0.003983429693469369, u'label': u'se goinfrer', u'gid': 7159, u'lemme': u'se goinfrer', u'prox_color': [255, 181, 67], u'id': 38}, {u'gdeg': 9, u'prox': 0.003977871261904357, u'label': u'se gorger', u'gid': 7163, u'lemme': u'se gorger', u'prox_color': [255, 168, 51], u'id': 39}, {u'gdeg': 2, u'prox': 0.003959135431791128, u'label': u'se les caler', u'gid': 7204, u'lemme': u'se les caler', u'prox_color': [255, 197, 44], u'id': 40}, {u'gdeg': 9, u'prox': 0.003953093360606786, u'label': u'se nourrir', u'gid': 7318, u'lemme': u'se nourrir', u'prox_color': [255, 157, 59], u'id': 41}, {u'gdeg': 3, u'prox': 0.003946954532522692, u'label': u'se piffrer', u'gid': 7357, u'lemme': u'se piffrer', u'prox_color': [255, 191, 44], u'id': 42}, {u'gdeg': 6, u'prox': 0.0038395637234185, u'label': u'se rassasier', u'gid': 7481, u'lemme': u'se rassasier', u'prox_color': [255, 177, 56], u'id': 43}, {u'gdeg': 11, u'prox': 0.0036736593338245016, u'label': u'se remplir', u'gid': 7536, u'lemme': u'se remplir', u'prox_color': [255, 176, 96], u'id': 44}, {u'gdeg': 11, u'prox': 0.0036340225902425417, u'label': u'se repa\\xeetre', u'gid': 7556, u'lemme': u'se repa\\xeetre', u'prox_color': [255, 161, 75], u'id': 45}, {u'gdeg': 6, u'prox': 0.003582797712413843, u'label': u'se restaurer', u'gid': 7573, u'lemme': u'se restaurer', u'prox_color': [255, 121, 44], u'id': 46}, {u'gdeg': 12, u'prox': 0.0035116599246474466, u'label': u'se r\\xe9galer', u'gid': 7615, u'lemme': u'se r\\xe9galer', u'prox_color': [255, 162, 112], u'id': 47}, {u'gdeg': 4, u'prox': 0.003479958721318954, u'label': u'se sustenter', u'gid': 7704, u'lemme': u'se sustenter', u'prox_color': [255, 157, 49], u'id': 48}, {u'gdeg': 2, u'prox': 0.003476108771372057, u'label': u'souper', u'gid': 7904, u'lemme': u'souper', u'prox_color': [255, 197, 43], u'id': 49}]\n"
       ]
      }
     ],
     "prompt_number": 89
    },
    {
     "cell_type": "code",
     "collapsed": false,
     "input": [
      "# print myData['links'] "
     ],
     "language": "python",
     "metadata": {},
     "outputs": [],
     "prompt_number": 162
    },
    {
     "cell_type": "code",
     "collapsed": false,
     "input": [
      "for k in data['results'].iterkeys():\n",
      "    print k"
     ],
     "language": "python",
     "metadata": {},
     "outputs": [
      {
       "output_type": "stream",
       "stream": "stdout",
       "text": [
        "clusters\n",
        "query\n",
        "layout\n",
        "graph\n"
       ]
      }
     ],
     "prompt_number": 101
    },
    {
     "cell_type": "code",
     "collapsed": false,
     "input": [
      "print data['results']['clusters']"
     ],
     "language": "python",
     "metadata": {},
     "outputs": [
      {
       "output_type": "stream",
       "stream": "stdout",
       "text": [
        "{u'clusters': [{u'vids': [0, 1, 4, 7, 16, 18, 19, 24, 25, 26, 30, 39, 44, 49], u'docnums': [], u'labels': [{u'score': 9, u'role': u'default', u'label': u'alterner'}, {u'score': 182, u'role': u'default', u'label': u'battre'}, {u'score': 100, u'role': u'default', u'label': u'changer'}, {u'score': 29, u'role': u'default', u'label': u'd\\xe9g\\xe9n\\xe9rer'}, {u'score': 65, u'role': u'default', u'label': u'marcher'}, {u'score': 121, u'role': u'default', u'label': u'partir'}, {u'score': 188, u'role': u'default', u'label': u'passer'}, {u'score': 102, u'role': u'default', u'label': u'remuer'}, {u'score': 61, u'role': u'default', u'label': u'retourner'}, {u'score': 88, u'role': u'default', u'label': u'rouler'}, {u'score': 23, u'role': u'default', u'label': u'se transformer'}, {u'score': 95, u'role': u'default', u'label': u'tourner'}, {u'score': 54, u'role': u'default', u'label': u'transformer'}, {u'score': 22, u'role': u'default', u'label': u'\\xe9voluer'}]}, {u'vids': [2, 3, 8, 9, 13, 17, 33, 34], u'docnums': [], u'labels': [{u'score': 14, u'role': u'default', u'label': u'biaiser'}, {u'score': 17, u'role': u'default', u'label': u'braquer'}, {u'score': 57, u'role': u'default', u'label': u'd\\xe9tourner'}, {u'score': 28, u'role': u'default', u'label': u'd\\xe9vier'}, {u'score': 8, u'role': u'default', u'label': u'finasser'}, {u'score': 12, u'role': u'default', u'label': u'obliquer'}, {u'score': 35, u'role': u'default', u'label': u'tordre'}, {u'score': 23, u'role': u'default', u'label': u'tortiller'}]}, {u'vids': [5, 6, 10, 12, 20], u'docnums': [], u'labels': [{u'score': 2, u'role': u'default', u'label': u'cin\\xe9graphier'}, {u'score': 5, u'role': u'default', u'label': u'cin\\xe9matographier'}, {u'score': 29, u'role': u'default', u'label': u'enregistrer'}, {u'score': 4, u'role': u'default', u'label': u'filmer'}, {u'score': 3, u'role': u'default', u'label': u'photographier'}]}, {u'vids': [11, 27, 38, 40, 41, 42], u'docnums': [], u'labels': [{u'score': 40, u'role': u'default', u'label': u'errer'}, {u'score': 24, u'role': u'default', u'label': u'r\\xf4der'}, {u'score': 7, u'role': u'default', u'label': u'tournailler'}, {u'score': 4, u'role': u'default', u'label': u'tournicoter'}, {u'score': 6, u'role': u'default', u'label': u'tourniller'}, {u'score': 6, u'role': u'default', u'label': u'tourniquer'}]}, {u'vids': [14, 15, 21, 22, 32, 35, 36, 37, 43, 45, 46, 47, 48], u'docnums': [], u'labels': [{u'score': 2, u'role': u'default', u'label': u'girer'}, {u'score': 6, u'role': u'default', u'label': u'graviter'}, {u'score': 5, u'role': u'default', u'label': u'pirouetter'}, {u'score': 9, u'role': u'default', u'label': u'pivoter'}, {u'score': 13, u'role': u'default', u'label': u'serpenter'}, {u'score': 3, u'role': u'default', u'label': u'toupiller'}, {u'score': 3, u'role': u'default', u'label': u'toupiner'}, {u'score': 5, u'role': u'default', u'label': u'tourbillonner'}, {u'score': 18, u'role': u'default', u'label': u'tournoyer'}, {u'score': 23, u'role': u'default', u'label': u'virer'}, {u'score': 11, u'role': u'default', u'label': u'virevolter'}, {u'score': 2, u'role': u'default', u'label': u'virevousser'}, {u'score': 3, u'role': u'default', u'label': u'volter'}]}, {u'vids': [23, 28, 29, 31], u'docnums': [], u'labels': [{u'score': 44, u'role': u'default', u'label': u'pourrir'}, {u'score': 10, u'role': u'default', u'label': u\"s'aigrir\"}, {u'score': 22, u'role': u'default', u'label': u'se g\\xe2ter'}, {u'score': 17, u'role': u'default', u'label': u'se troubler'}]}], u'misc': -1}\n"
       ]
      }
     ],
     "prompt_number": 163
    },
    {
     "cell_type": "code",
     "collapsed": false,
     "input": [
      "clusters_id = {}\n",
      "for id_cluster , c in enumerate( data['results']['clusters']['clusters'] ):\n",
      "    for i, vertex_id in enumerate( c['vids'] ):\n",
      "        clusters_id[vertex_id] = id_cluster \n",
      "        \n",
      "print clusters_id\n"
     ],
     "language": "python",
     "metadata": {},
     "outputs": [
      {
       "output_type": "stream",
       "stream": "stdout",
       "text": [
        "{0: 0, 1: 0, 2: 1, 3: 1, 4: 0, 5: 2, 6: 2, 7: 0, 8: 1, 9: 1, 10: 2, 11: 3, 12: 2, 13: 1, 14: 4, 15: 4, 16: 0, 17: 1, 18: 0, 19: 0, 20: 2, 21: 4, 22: 4, 23: 5, 24: 0, 25: 0, 26: 0, 27: 3, 28: 5, 29: 5, 30: 0, 31: 5, 32: 4, 33: 1, 34: 1, 35: 4, 36: 4, 37: 4, 38: 3, 39: 0, 40: 3, 41: 3, 42: 3, 43: 4, 44: 0, 45: 4, 46: 4, 47: 4, 48: 4, 49: 0}\n"
       ]
      }
     ],
     "prompt_number": 169
    },
    {
     "cell_type": "code",
     "collapsed": false,
     "input": [],
     "language": "python",
     "metadata": {},
     "outputs": []
    }
   ],
   "metadata": {}
  }
 ]
}