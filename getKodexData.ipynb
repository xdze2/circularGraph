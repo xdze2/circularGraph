{
 "metadata": {
  "name": "",
  "signature": "sha256:681fd57a30850c9ad81f7512a555416b0c9c0d41e939b9399d14f789ecea4a69"
 },
 "nbformat": 3,
 "nbformat_minor": 0,
 "worksheets": [
  {
   "cells": [
    {
     "cell_type": "code",
     "collapsed": false,
     "input": [
      "import requests\n",
      "import json"
     ],
     "language": "python",
     "metadata": {},
     "outputs": [],
     "prompt_number": 32
    },
    {
     "cell_type": "code",
     "collapsed": false,
     "input": [
      "url = \"http://kodexlab.com/cnrtl/graph/verb/api/play\"\n",
      "request = {\"query\":\"rouler\"}"
     ],
     "language": "python",
     "metadata": {},
     "outputs": [],
     "prompt_number": 33
    },
    {
     "cell_type": "code",
     "collapsed": false,
     "input": [
      "res = requests.get(url, data=json.dumps(request), headers={\"content-type\":\"application/json\"})"
     ],
     "language": "python",
     "metadata": {},
     "outputs": [],
     "prompt_number": 34
    },
    {
     "cell_type": "code",
     "collapsed": false,
     "input": [
      "data = res.json()\n",
      "print len( data[\"results\"] )"
     ],
     "language": "python",
     "metadata": {},
     "outputs": [
      {
       "output_type": "stream",
       "stream": "stdout",
       "text": [
        "4\n"
       ]
      }
     ],
     "prompt_number": 35
    },
    {
     "cell_type": "code",
     "collapsed": false,
     "input": [
      "filename = 'data_query.json'\n",
      "writeFile = open(filename, 'w+')\n",
      "writeFile.write( json.dumps( data ,   indent = 4 ) )\n",
      "writeFile.close()"
     ],
     "language": "python",
     "metadata": {},
     "outputs": [],
     "prompt_number": 36
    },
    {
     "cell_type": "markdown",
     "metadata": {},
     "source": [
      "### Formatage pour le graph circulaire"
     ]
    },
    {
     "cell_type": "code",
     "collapsed": false,
     "input": [
      "# cr\u00e9er une liste ordonn\u00e9es des Noeux, en inserrant les espaces vide entre les clusters\n",
      "# donne l'angle  : theta = iDelta * delta   en fonction de l'id du noeud\n",
      "\n",
      "iDelta = {}\n",
      "i = 0\n",
      "for c in data[\"results\"]['clusters']['clusters']:\n",
      "    for vId in c['vids']:\n",
      "        iDelta[ vId ] = i\n",
      "        i = i + 1\n",
      "    i = i + 1 # espace vide entre cluster\n",
      "nNodes = i - 1\n",
      "print nNodes"
     ],
     "language": "python",
     "metadata": {},
     "outputs": [
      {
       "output_type": "stream",
       "stream": "stdout",
       "text": [
        "57\n"
       ]
      }
     ],
     "prompt_number": 37
    },
    {
     "cell_type": "code",
     "collapsed": false,
     "input": [
      "for d in data['results']['graph']['vs']:\n",
      "    print d['label'],"
     ],
     "language": "python",
     "metadata": {},
     "outputs": [
      {
       "output_type": "stream",
       "stream": "stdout",
       "text": [
        "abuser attraper avoir baiser balancer battre berner bouler charrier couler duper d\u00e9bouler d\u00e9gringoler empaumer enrouler entortiller envelopper escroquer exploiter flouer glisser houler jouer leurrer lover marcher mystifier naviguer peloter penser pigeonner porter poss\u00e9der prendre pr\u00e9parer refaire remuer rouler se balancer se moquer s\u00e9duire tanguer tomber toucher tourner traiter transporter tromper voler \u00e9motter\n"
       ]
      }
     ],
     "prompt_number": 38
    },
    {
     "cell_type": "code",
     "collapsed": false,
     "input": [
      "myData = {}\n",
      "\n",
      "myData['links'] = data['results']['graph']['es']\n",
      "myData['nodes'] = data['results']['graph']['vs']\n",
      "myData['iDelta'] = iDelta\n",
      "myData['nNodes'] = nNodes"
     ],
     "language": "python",
     "metadata": {},
     "outputs": [],
     "prompt_number": 39
    },
    {
     "cell_type": "code",
     "collapsed": false,
     "input": [
      "#\u00a0Enregistre la requ\u00eate\n",
      "myData['query'] = None\n",
      "q = data['results']['query']\n",
      "for n in myData['nodes']:\n",
      "    if n['lemme'] == q:\n",
      "        myData['query'] = n\n",
      "        print n['lemme']"
     ],
     "language": "python",
     "metadata": {},
     "outputs": [
      {
       "output_type": "stream",
       "stream": "stdout",
       "text": [
        "rouler\n"
       ]
      }
     ],
     "prompt_number": 40
    },
    {
     "cell_type": "code",
     "collapsed": false,
     "input": [
      "# Dico de correspondance vertex -> id du cluster\n",
      "clusters_id = {}\n",
      "for id_cluster , c in enumerate( data['results']['clusters']['clusters'] ):\n",
      "    for i, vertex_id in enumerate( c['vids'] ):\n",
      "        clusters_id[vertex_id] = id_cluster \n",
      "        \n",
      "print clusters_id\n",
      "myData['clusters_id'] = clusters_id"
     ],
     "language": "python",
     "metadata": {},
     "outputs": [
      {
       "output_type": "stream",
       "stream": "stdout",
       "text": [
        "{0: 0, 1: 0, 2: 1, 3: 0, 4: 2, 5: 2, 6: 0, 7: 3, 8: 0, 9: 3, 10: 0, 11: 3, 12: 3, 13: 0, 14: 4, 15: 1, 16: 1, 17: 0, 18: 0, 19: 0, 20: 3, 21: 2, 22: 1, 23: 0, 24: 4, 25: 1, 26: 0, 27: 1, 28: 4, 29: 5, 30: 0, 31: 1, 32: 0, 33: 1, 34: 6, 35: 0, 36: 2, 37: 1, 38: 2, 39: 0, 40: 1, 41: 2, 42: 3, 43: 1, 44: 2, 45: 1, 46: 1, 47: 0, 48: 0, 49: 7}\n"
       ]
      }
     ],
     "prompt_number": 41
    },
    {
     "cell_type": "code",
     "collapsed": false,
     "input": [
      "# Manage the links with the query\n",
      "id_q = myData['query']['id']\n",
      "print ' id cluster de la requete: ', id_q\n",
      "\n",
      "for i, edge in enumerate( myData['links'] ):\n",
      "    if edge['s']==id_q or edge['t']==id_q:\n",
      "        myData['links'][i]['type'] = 'query'\n",
      "    elif clusters_id[ edge['s'] ] == clusters_id[ edge['t'] ]:\n",
      "        myData['links'][i]['type'] = 'intra'\n",
      "    else:\n",
      "        myData['links'][i]['type'] = 'inter'\n",
      "\n",
      "#print myData['links']"
     ],
     "language": "python",
     "metadata": {},
     "outputs": [
      {
       "output_type": "stream",
       "stream": "stdout",
       "text": [
        " id cluster de la requete:  37\n"
       ]
      }
     ],
     "prompt_number": 42
    },
    {
     "cell_type": "code",
     "collapsed": false,
     "input": [
      "#\u00a0-- SAVE --\n",
      "filename = 'myData_'+request['query']+'.json'\n",
      "writeFile = open(filename, 'w+')\n",
      "writeFile.write( json.dumps( myData ,   indent = 4 ) )\n",
      "writeFile.close()"
     ],
     "language": "python",
     "metadata": {},
     "outputs": [],
     "prompt_number": 43
    },
    {
     "cell_type": "markdown",
     "metadata": {},
     "source": [
      "###\u00a0Brouillon"
     ]
    },
    {
     "cell_type": "code",
     "collapsed": false,
     "input": [
      "print myData['nodes'] "
     ],
     "language": "python",
     "metadata": {},
     "outputs": [
      {
       "output_type": "stream",
       "stream": "stdout",
       "text": [
        "[{u'gdeg': 66, u'prox': 0.01664019432587594, u'label': u'abuser', u'gid': 36, u'lemme': u'abuser', u'prox_color': [255, 132, 58], u'id': 0}, {u'gdeg': 90, u'prox': 0.008082890797141922, u'label': u'attraper', u'gid': 492, u'lemme': u'attraper', u'prox_color': [255, 143, 61], u'id': 1}, {u'gdeg': 57, u'prox': 0.0057810499120329135, u'label': u'avoir', u'gid': 528, u'lemme': u'avoir', u'prox_color': [255, 146, 54], u'id': 2}, {u'gdeg': 28, u'prox': 0.005446489210753513, u'label': u'baiser', u'gid': 688, u'lemme': u'baiser', u'prox_color': [255, 132, 49], u'id': 3}, {u'gdeg': 83, u'prox': 0.0050830751752408395, u'label': u'balancer', u'gid': 697, u'lemme': u'balancer', u'prox_color': [255, 183, 79], u'id': 4}, {u'gdeg': 182, u'prox': 0.004677962748059719, u'label': u'battre', u'gid': 742, u'lemme': u'battre', u'prox_color': [255, 210, 37], u'id': 5}, {u'gdeg': 46, u'prox': 0.004337501557391182, u'label': u'berner', u'gid': 772, u'lemme': u'berner', u'prox_color': [255, 129, 62], u'id': 6}, {u'gdeg': 17, u'prox': 0.004294696542897934, u'label': u'bouler', u'gid': 887, u'lemme': u'bouler', u'prox_color': [255, 192, 141], u'id': 7}, {u'gdeg': 29, u'prox': 0.004143258277441094, u'label': u'charrier', u'gid': 1214, u'lemme': u'charrier', u'prox_color': [255, 114, 63], u'id': 8}, {u'gdeg': 91, u'prox': 0.004087509489403487, u'label': u'couler', u'gid': 1590, u'lemme': u'couler', u'prox_color': [156, 129, 255], u'id': 9}, {u'gdeg': 39, u'prox': 0.003985702880493705, u'label': u'duper', u'gid': 1903, u'lemme': u'duper', u'prox_color': [255, 143, 62], u'id': 10}, {u'gdeg': 13, u'prox': 0.0037754638311474223, u'label': u'd\\xe9bouler', u'gid': 1939, u'lemme': u'd\\xe9bouler', u'prox_color': [133, 113, 255], u'id': 11}, {u'gdeg': 26, u'prox': 0.003728056262987331, u'label': u'd\\xe9gringoler', u'gid': 2154, u'lemme': u'd\\xe9gringoler', u'prox_color': [238, 222, 255], u'id': 12}, {u'gdeg': 16, u'prox': 0.0036613042768758267, u'label': u'empaumer', u'gid': 2577, u'lemme': u'empaumer', u'prox_color': [255, 128, 59], u'id': 13}, {u'gdeg': 18, u'prox': 0.003606016500305007, u'label': u'enrouler', u'gid': 2767, u'lemme': u'enrouler', u'prox_color': [255, 174, 104], u'id': 14}, {u'gdeg': 33, u'prox': 0.0036036931109181473, u'label': u'entortiller', u'gid': 2797, u'lemme': u'entortiller', u'prox_color': [255, 133, 38], u'id': 15}, {u'gdeg': 59, u'prox': 0.003507213376822531, u'label': u'envelopper', u'gid': 2828, u'lemme': u'envelopper', u'prox_color': [255, 142, 43], u'id': 16}, {u'gdeg': 28, u'prox': 0.003408340872123967, u'label': u'escroquer', u'gid': 2854, u'lemme': u'escroquer', u'prox_color': [255, 167, 112], u'id': 17}, {u'gdeg': 29, u'prox': 0.003374181349118949, u'label': u'exploiter', u'gid': 2926, u'lemme': u'exploiter', u'prox_color': [255, 179, 71], u'id': 18}, {u'gdeg': 14, u'prox': 0.0033449397028059687, u'label': u'flouer', u'gid': 3285, u'lemme': u'flouer', u'prox_color': [255, 145, 80], u'id': 19}, {u'gdeg': 54, u'prox': 0.0032103116746420514, u'label': u'glisser', u'gid': 3480, u'lemme': u'glisser', u'prox_color': [255, 177, 250], u'id': 20}, {u'gdeg': 2, u'prox': 0.003060468208060746, u'label': u'houler', u'gid': 3659, u'lemme': u'houler', u'prox_color': [255, 145, 89], u'id': 21}, {u'gdeg': 88, u'prox': 0.003034908409883537, u'label': u'jouer', u'gid': 3915, u'lemme': u'jouer', u'prox_color': [255, 136, 77], u'id': 22}, {u'gdeg': 24, u'prox': 0.0030186730383668058, u'label': u'leurrer', u'gid': 3987, u'lemme': u'leurrer', u'prox_color': [255, 123, 54], u'id': 23}, {u'gdeg': 2, u'prox': 0.003004821449247714, u'label': u'lover', u'gid': 4043, u'lemme': u'lover', u'prox_color': [255, 170, 106], u'id': 24}, {u'gdeg': 65, u'prox': 0.002967712449813907, u'label': u'marcher', u'gid': 4116, u'lemme': u'marcher', u'prox_color': [255, 160, 236], u'id': 25}, {u'gdeg': 22, u'prox': 0.0028694208928252596, u'label': u'mystifier', u'gid': 4432, u'lemme': u'mystifier', u'prox_color': [255, 123, 63], u'id': 26}, {u'gdeg': 23, u'prox': 0.0027787376963121137, u'label': u'naviguer', u'gid': 4487, u'lemme': u'naviguer', u'prox_color': [255, 188, 170], u'id': 27}, {u'gdeg': 20, u'prox': 0.002777390365322618, u'label': u'peloter', u'gid': 4740, u'lemme': u'peloter', u'prox_color': [255, 103, 61], u'id': 28}, {u'gdeg': 66, u'prox': 0.00276955745626538, u'label': u'penser', u'gid': 4748, u'lemme': u'penser', u'prox_color': [255, 149, 56], u'id': 29}, {u'gdeg': 13, u'prox': 0.0026694796563730464, u'label': u'pigeonner', u'gid': 4806, u'lemme': u'pigeonner', u'prox_color': [255, 136, 65], u'id': 30}, {u'gdeg': 107, u'prox': 0.0026598848818107884, u'label': u'porter', u'gid': 4912, u'lemme': u'porter', u'prox_color': [255, 119, 47], u'id': 31}, {u'gdeg': 42, u'prox': 0.0026220206910846757, u'label': u'poss\\xe9der', u'gid': 4932, u'lemme': u'poss\\xe9der', u'prox_color': [255, 148, 56], u'id': 32}, {u'gdeg': 210, u'prox': 0.002619127045781754, u'label': u'prendre', u'gid': 4962, u'lemme': u'prendre', u'prox_color': [255, 145, 54], u'id': 33}, {u'gdeg': 99, u'prox': 0.002613219402228744, u'label': u'pr\\xe9parer', u'gid': 5095, u'lemme': u'pr\\xe9parer', u'prox_color': [255, 141, 38], u'id': 34}, {u'gdeg': 61, u'prox': 0.0026111666330914, u'label': u'refaire', u'gid': 5383, u'lemme': u'refaire', u'prox_color': [255, 118, 57], u'id': 35}, {u'gdeg': 102, u'prox': 0.002607635138608011, u'label': u'remuer', u'gid': 5473, u'lemme': u'remuer', u'prox_color': [255, 148, 78], u'id': 36}, {u'gdeg': 88, u'prox': 0.0025313822055838763, u'label': u'rouler', u'gid': 5704, u'lemme': u'rouler', u'prox_color': [255, 159, 106], u'id': 37}, {u'gdeg': 22, u'prox': 0.0024407593231683595, u'label': u'se balancer', u'gid': 6595, u'lemme': u'se balancer', u'prox_color': [255, 149, 81], u'id': 38}, {u'gdeg': 53, u'prox': 0.002439254849193109, u'label': u'se moquer', u'gid': 7285, u'lemme': u'se moquer', u'prox_color': [255, 145, 84], u'id': 39}, {u'gdeg': 92, u'prox': 0.002425009926172933, u'label': u's\\xe9duire', u'gid': 8072, u'lemme': u's\\xe9duire', u'prox_color': [255, 110, 51], u'id': 40}, {u'gdeg': 19, u'prox': 0.002424839850526305, u'label': u'tanguer', u'gid': 8097, u'lemme': u'tanguer', u'prox_color': [255, 152, 84], u'id': 41}, {u'gdeg': 133, u'prox': 0.0023579419707219005, u'label': u'tomber', u'gid': 8205, u'lemme': u'tomber', u'prox_color': [240, 215, 255], u'id': 42}, {u'gdeg': 116, u'prox': 0.0023537195705727425, u'label': u'toucher', u'gid': 8231, u'lemme': u'toucher', u'prox_color': [255, 152, 57], u'id': 43}, {u'gdeg': 95, u'prox': 0.0023341625219371162, u'label': u'tourner', u'gid': 8243, u'lemme': u'tourner', u'prox_color': [255, 161, 178], u'id': 44}, {u'gdeg': 73, u'prox': 0.0023077036531447405, u'label': u'traiter', u'gid': 8271, u'lemme': u'traiter', u'prox_color': [255, 141, 45], u'id': 45}, {u'gdeg': 79, u'prox': 0.002300094090666082, u'label': u'transporter', u'gid': 8300, u'lemme': u'transporter', u'prox_color': [255, 106, 66], u'id': 46}, {u'gdeg': 101, u'prox': 0.0022971547337453714, u'label': u'tromper', u'gid': 8344, u'lemme': u'tromper', u'prox_color': [255, 139, 67], u'id': 47}, {u'gdeg': 118, u'prox': 0.002286751524734353, u'label': u'voler', u'gid': 8533, u'lemme': u'voler', u'prox_color': [255, 167, 201], u'id': 48}, {u'gdeg': 2, u'prox': 0.0022867165308585132, u'label': u'\\xe9motter', u'gid': 8727, u'lemme': u'\\xe9motter', u'prox_color': [255, 169, 73], u'id': 49}]\n"
       ]
      }
     ],
     "prompt_number": 44
    },
    {
     "cell_type": "code",
     "collapsed": false,
     "input": [
      "# print myData['links'] "
     ],
     "language": "python",
     "metadata": {},
     "outputs": [],
     "prompt_number": 45
    },
    {
     "cell_type": "code",
     "collapsed": false,
     "input": [
      "for k in data['results'].iterkeys():\n",
      "    print k"
     ],
     "language": "python",
     "metadata": {},
     "outputs": [
      {
       "output_type": "stream",
       "stream": "stdout",
       "text": [
        "clusters\n",
        "query\n",
        "layout\n",
        "graph\n"
       ]
      }
     ],
     "prompt_number": 46
    },
    {
     "cell_type": "code",
     "collapsed": false,
     "input": [
      "print data['results']['clusters']"
     ],
     "language": "python",
     "metadata": {},
     "outputs": [
      {
       "output_type": "stream",
       "stream": "stdout",
       "text": [
        "{u'clusters': [{u'vids': [0, 1, 3, 6, 8, 10, 13, 17, 18, 19, 23, 26, 30, 32, 35, 39, 47, 48], u'docnums': [], u'labels': [{u'score': 66, u'role': u'default', u'label': u'abuser'}, {u'score': 90, u'role': u'default', u'label': u'attraper'}, {u'score': 28, u'role': u'default', u'label': u'baiser'}, {u'score': 46, u'role': u'default', u'label': u'berner'}, {u'score': 29, u'role': u'default', u'label': u'charrier'}, {u'score': 39, u'role': u'default', u'label': u'duper'}, {u'score': 16, u'role': u'default', u'label': u'empaumer'}, {u'score': 28, u'role': u'default', u'label': u'escroquer'}, {u'score': 29, u'role': u'default', u'label': u'exploiter'}, {u'score': 14, u'role': u'default', u'label': u'flouer'}, {u'score': 24, u'role': u'default', u'label': u'leurrer'}, {u'score': 22, u'role': u'default', u'label': u'mystifier'}, {u'score': 13, u'role': u'default', u'label': u'pigeonner'}, {u'score': 42, u'role': u'default', u'label': u'poss\\xe9der'}, {u'score': 61, u'role': u'default', u'label': u'refaire'}, {u'score': 53, u'role': u'default', u'label': u'se moquer'}, {u'score': 101, u'role': u'default', u'label': u'tromper'}, {u'score': 118, u'role': u'default', u'label': u'voler'}]}, {u'vids': [2, 15, 16, 22, 25, 27, 31, 33, 37, 40, 43, 45, 46], u'docnums': [], u'labels': [{u'score': 57, u'role': u'default', u'label': u'avoir'}, {u'score': 33, u'role': u'default', u'label': u'entortiller'}, {u'score': 59, u'role': u'default', u'label': u'envelopper'}, {u'score': 88, u'role': u'default', u'label': u'jouer'}, {u'score': 65, u'role': u'default', u'label': u'marcher'}, {u'score': 23, u'role': u'default', u'label': u'naviguer'}, {u'score': 107, u'role': u'default', u'label': u'porter'}, {u'score': 210, u'role': u'default', u'label': u'prendre'}, {u'score': 88, u'role': u'default', u'label': u'rouler'}, {u'score': 92, u'role': u'default', u'label': u's\\xe9duire'}, {u'score': 116, u'role': u'default', u'label': u'toucher'}, {u'score': 73, u'role': u'default', u'label': u'traiter'}, {u'score': 79, u'role': u'default', u'label': u'transporter'}]}, {u'vids': [4, 5, 21, 36, 38, 41, 44], u'docnums': [], u'labels': [{u'score': 83, u'role': u'default', u'label': u'balancer'}, {u'score': 182, u'role': u'default', u'label': u'battre'}, {u'score': 2, u'role': u'default', u'label': u'houler'}, {u'score': 102, u'role': u'default', u'label': u'remuer'}, {u'score': 22, u'role': u'default', u'label': u'se balancer'}, {u'score': 19, u'role': u'default', u'label': u'tanguer'}, {u'score': 95, u'role': u'default', u'label': u'tourner'}]}, {u'vids': [7, 9, 11, 12, 20, 42], u'docnums': [], u'labels': [{u'score': 17, u'role': u'default', u'label': u'bouler'}, {u'score': 91, u'role': u'default', u'label': u'couler'}, {u'score': 13, u'role': u'default', u'label': u'd\\xe9bouler'}, {u'score': 26, u'role': u'default', u'label': u'd\\xe9gringoler'}, {u'score': 54, u'role': u'default', u'label': u'glisser'}, {u'score': 133, u'role': u'default', u'label': u'tomber'}]}, {u'vids': [14, 24, 28], u'docnums': [], u'labels': [{u'score': 18, u'role': u'default', u'label': u'enrouler'}, {u'score': 2, u'role': u'default', u'label': u'lover'}, {u'score': 20, u'role': u'default', u'label': u'peloter'}]}, {u'vids': [29], u'docnums': [], u'labels': [{u'score': 66, u'role': u'default', u'label': u'penser'}]}, {u'vids': [34], u'docnums': [], u'labels': [{u'score': 99, u'role': u'default', u'label': u'pr\\xe9parer'}]}, {u'vids': [49], u'docnums': [], u'labels': [{u'score': 2, u'role': u'default', u'label': u'\\xe9motter'}]}], u'misc': -1}\n"
       ]
      }
     ],
     "prompt_number": 47
    },
    {
     "cell_type": "code",
     "collapsed": false,
     "input": [
      "clusters_id = {}\n",
      "for id_cluster , c in enumerate( data['results']['clusters']['clusters'] ):\n",
      "    for i, vertex_id in enumerate( c['vids'] ):\n",
      "        clusters_id[vertex_id] = id_cluster \n",
      "        \n",
      "print clusters_id\n"
     ],
     "language": "python",
     "metadata": {},
     "outputs": [
      {
       "output_type": "stream",
       "stream": "stdout",
       "text": [
        "{0: 0, 1: 0, 2: 1, 3: 0, 4: 2, 5: 2, 6: 0, 7: 3, 8: 0, 9: 3, 10: 0, 11: 3, 12: 3, 13: 0, 14: 4, 15: 1, 16: 1, 17: 0, 18: 0, 19: 0, 20: 3, 21: 2, 22: 1, 23: 0, 24: 4, 25: 1, 26: 0, 27: 1, 28: 4, 29: 5, 30: 0, 31: 1, 32: 0, 33: 1, 34: 6, 35: 0, 36: 2, 37: 1, 38: 2, 39: 0, 40: 1, 41: 2, 42: 3, 43: 1, 44: 2, 45: 1, 46: 1, 47: 0, 48: 0, 49: 7}\n"
       ]
      }
     ],
     "prompt_number": 48
    },
    {
     "cell_type": "code",
     "collapsed": false,
     "input": [],
     "language": "python",
     "metadata": {},
     "outputs": [],
     "prompt_number": 48
    }
   ],
   "metadata": {}
  }
 ]
}